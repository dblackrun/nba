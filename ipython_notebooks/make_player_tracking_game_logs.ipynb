{
 "cells": [
  {
   "cell_type": "markdown",
   "metadata": {},
   "source": [
    "It's been two years since [stats.nba.com](http://stats.nba.com) first rolled out their [SportVU player tracking](http://stats.nba.com/tracking/#!/player/) stats. As great as these stats are, there was one thing that many people who have spent a lot of time working with this data felt was missing - the ability to filter these stats by date. Fortunately, a few days ago an update was made that included this feature. Up until now we could just see per game averages for all these stats but with this new update we can now get a breakdown for all these stats on a day by day basis. In this post I will walk through how to use the date filtering feature to get game logs for the one of these SportVU stat categories for a single day using Python 2.7. If you want to do some digging to a full season's worth of these stats you can build upon this to get these game logs for all the stats for a full season."
   ]
  },
  {
   "cell_type": "markdown",
   "metadata": {},
   "source": [
    "Let's start by importing the packages we will use."
   ]
  },
  {
   "cell_type": "code",
   "execution_count": 1,
   "metadata": {
    "collapsed": true
   },
   "outputs": [],
   "source": [
    "import json\n",
    "import requests\n",
    "import pandas as pd\n",
    "from IPython.display import display"
   ]
  },
  {
   "cell_type": "markdown",
   "metadata": {},
   "source": [
    "Since we are going to be pulling a few different stats from [stats.nba.com](http://stats.nba.com) we should have a function that can get what we need into a format we can work with. The function below gets the data we want for a given base URL and set of parameters from the NBA stats API and returns a list of [dictionaries](https://docs.python.org/2/tutorial/datastructures.html#dictionaries) where each dictionary contains the stats for a player."
   ]
  },
  {
   "cell_type": "code",
   "execution_count": 2,
   "metadata": {
    "collapsed": true
   },
   "outputs": [],
   "source": [
    "def get_data_from_url(base_url, parameters, index):\n",
    "    response = requests.get(base_url, params=parameters)\n",
    "    data = response.json()\n",
    "    headers = data['resultSets'][index]['headers']\n",
    "    rows = data['resultSets'][index]['rowSet']\n",
    "    return [dict(zip(headers, row)) for row in rows]"
   ]
  },
  {
   "cell_type": "markdown",
   "metadata": {},
   "source": [
    "To get game logs for a single day, we need to pick a date."
   ]
  },
  {
   "cell_type": "code",
   "execution_count": 3,
   "metadata": {
    "collapsed": true
   },
   "outputs": [],
   "source": [
    "date = \"10/29/2014\""
   ]
  },
  {
   "cell_type": "markdown",
   "metadata": {},
   "source": [
    "Now we need to get the player tracking data for that date. Since we can now filter these stats by date, this is pretty simple to do using the NBA stats API. Below is the base URL for the player tracking stats along with the needed parameters. The key parameters we need to set are DateFrom, DateTo, PlayerOrTeam, PtMeasureType, Season and SeasonType. Most of these should be pretty self explanatory. The PtMeasureType parameter is just the player tracking stat we want to get. For this example we will get the possessions/touches stats. There are a lot of parameters that are blank that you can play around with as you see fit, but for making the game logs they aren't needed."
   ]
  },
  {
   "cell_type": "code",
   "execution_count": 4,
   "metadata": {
    "collapsed": false
   },
   "outputs": [],
   "source": [
    "player_tracking_base_url = \"http://stats.nba.com/stats/leaguedashptstats?\"\n",
    "\n",
    "player_tracking_parameters = {\n",
    "                                \"DateFrom\": date,\n",
    "                                \"DateTo\": date,\n",
    "                                \"LastNGames\": 0,\n",
    "                                \"LeagueID\": \"00\",\n",
    "                                \"Month\": 0,\n",
    "                                \"OpponentTeamID\": 0,\n",
    "                                \"PORound\": 0,\n",
    "                                \"PerMode\": \"Totals\",\n",
    "                                \"PlayerOrTeam\": \"Player\", # use Team for team stats\n",
    "                                \"PtMeasureType\": \"Possessions\", # change this for different player tracking stat\n",
    "                                \"Season\": \"2014-15\",\n",
    "                                \"SeasonType\": \"Regular Season\", # use Playoffs for playoff stats\n",
    "                                \"TeamID\": 0,\n",
    "                                \"Outcome\": \"\",\n",
    "                                \"Location\": \"\",\n",
    "                                \"SeasonSegment\": \"\",\n",
    "                                \"VsConference\": \"\",\n",
    "                                \"VsDivision\": \"\",\n",
    "                                \"GameScope\": \"\",\n",
    "                                \"PlayerExperience\": \"\",\n",
    "                                \"PlayerPosition\": \"\",\n",
    "                                \"StarterBench\": \"\"\n",
    "}"
   ]
  },
  {
   "cell_type": "markdown",
   "metadata": {},
   "source": [
    "We can use the get_data_from_url function we made to get the player tracking data for the above parameters."
   ]
  },
  {
   "cell_type": "code",
   "execution_count": 5,
   "metadata": {
    "collapsed": true
   },
   "outputs": [],
   "source": [
    "player_tracking_data = get_data_from_url(player_tracking_base_url, player_tracking_parameters, 0)"
   ]
  },
  {
   "cell_type": "markdown",
   "metadata": {},
   "source": [
    "Let's take a look at what this data looks like for a single player."
   ]
  },
  {
   "cell_type": "code",
   "execution_count": 6,
   "metadata": {
    "collapsed": false
   },
   "outputs": [
    {
     "data": {
      "text/plain": [
       "{u'AVG_DRIB_PER_TOUCH': 7.4,\n",
       " u'AVG_SEC_PER_TOUCH': 6.5,\n",
       " u'ELBOW_TOUCHES': 0,\n",
       " u'FRONT_CT_TOUCHES': 42,\n",
       " u'GP': 1,\n",
       " u'L': 0,\n",
       " u'MIN': 24.0,\n",
       " u'PAINT_TOUCHES': 0,\n",
       " u'PLAYER_ID': 201166,\n",
       " u'PLAYER_NAME': u'Aaron Brooks',\n",
       " u'POINTS': 13,\n",
       " u'POST_TOUCHES': 0,\n",
       " u'PTS_PER_ELBOW_TOUCH': 0.0,\n",
       " u'PTS_PER_PAINT_TOUCH': 0.0,\n",
       " u'PTS_PER_POST_TOUCH': 0.0,\n",
       " u'PTS_PER_TOUCH': 0.289,\n",
       " u'TEAM_ABBREVIATION': u'CHI',\n",
       " u'TEAM_ID': 1610612741,\n",
       " u'TIME_OF_POSS': 4.9,\n",
       " u'TOUCHES': 45,\n",
       " u'W': 1}"
      ]
     },
     "execution_count": 6,
     "metadata": {},
     "output_type": "execute_result"
    }
   ],
   "source": [
    "player_tracking_data[0]"
   ]
  },
  {
   "cell_type": "markdown",
   "metadata": {},
   "source": [
    "So that looks good, it has all the data there, but it is missing one key element that might be of use for doing more analysis - the game id. We need a way to add the game id. Fortunately it is pretty simple to find the game ids for all games played on a specific date. We can do this by getting the scores for the day and extracting the game ids."
   ]
  },
  {
   "cell_type": "code",
   "execution_count": 7,
   "metadata": {
    "collapsed": false
   },
   "outputs": [],
   "source": [
    "game_ids = []\n",
    "date_base_url = \"http://stats.nba.com/stats/scoreboardV2?\"\n",
    "date_parameters = {\n",
    "                \"DayOffset\": \"0\",\n",
    "                \"LeagueID\": \"00\",\n",
    "                \"gameDate\": date\n",
    "}\n",
    "games = get_data_from_url(date_base_url, date_parameters, 1)\n",
    "for game in games:\n",
    "    game_ids.append(game['GAME_ID'])"
   ]
  },
  {
   "cell_type": "markdown",
   "metadata": {},
   "source": [
    "Now that we have a list of games, we can get all the boxscores for those games and create a dictionary of key, value pairs that maps each player who played in those games to the id of the game in which they played."
   ]
  },
  {
   "cell_type": "code",
   "execution_count": 8,
   "metadata": {
    "collapsed": false
   },
   "outputs": [],
   "source": [
    "player_game_map = {}\n",
    "\n",
    "boxscore_base_url = \"http://stats.nba.com/stats/boxscoretraditionalv2?\"\n",
    "\n",
    "for game_id in game_ids:\n",
    "    boxscore_parameters = {\n",
    "                            \"GameId\": game_id,\n",
    "                            \"StartPeriod\": 0,\n",
    "                            \"EndPeriod\": 10,\n",
    "                            \"RangeType\": 2,\n",
    "                            \"StartRange\": 0,\n",
    "                            \"EndRange\": 55800\n",
    "    }\n",
    "    player_boxscore_data = get_data_from_url(boxscore_base_url, boxscore_parameters, 0)\n",
    "    for player_data in player_boxscore_data:\n",
    "        player_game_map[player_data[\"PLAYER_ID\"]] = player_data[\"GAME_ID\"]"
   ]
  },
  {
   "cell_type": "markdown",
   "metadata": {},
   "source": [
    "This player game map is the key to adding the game id to the game logs. We can loop through the player tracking data and add in the correct game id for each player."
   ]
  },
  {
   "cell_type": "code",
   "execution_count": 9,
   "metadata": {
    "collapsed": false
   },
   "outputs": [],
   "source": [
    "for i in range(len(player_tracking_data)):\n",
    "    player_tracking_data[i][\"GAME_ID\"] = player_game_map[player_tracking_data[i][\"PLAYER_ID\"]]"
   ]
  },
  {
   "cell_type": "markdown",
   "metadata": {},
   "source": [
    "To examine the data, let's put the results into a pandas data frame and take a look at the first five rows."
   ]
  },
  {
   "cell_type": "code",
   "execution_count": 10,
   "metadata": {
    "collapsed": false
   },
   "outputs": [
    {
     "data": {
      "text/html": [
       "<div style=\"max-height:1000px;max-width:1500px;overflow:auto;\">\n",
       "<table border=\"1\" class=\"dataframe\">\n",
       "  <thead>\n",
       "    <tr style=\"text-align: right;\">\n",
       "      <th></th>\n",
       "      <th>AVG_DRIB_PER_TOUCH</th>\n",
       "      <th>AVG_SEC_PER_TOUCH</th>\n",
       "      <th>ELBOW_TOUCHES</th>\n",
       "      <th>FRONT_CT_TOUCHES</th>\n",
       "      <th>GAME_ID</th>\n",
       "      <th>GP</th>\n",
       "      <th>L</th>\n",
       "      <th>MIN</th>\n",
       "      <th>PAINT_TOUCHES</th>\n",
       "      <th>PLAYER_ID</th>\n",
       "      <th>PLAYER_NAME</th>\n",
       "      <th>POINTS</th>\n",
       "      <th>POST_TOUCHES</th>\n",
       "      <th>PTS_PER_ELBOW_TOUCH</th>\n",
       "      <th>PTS_PER_PAINT_TOUCH</th>\n",
       "      <th>PTS_PER_POST_TOUCH</th>\n",
       "      <th>PTS_PER_TOUCH</th>\n",
       "      <th>TEAM_ABBREVIATION</th>\n",
       "      <th>TEAM_ID</th>\n",
       "      <th>TIME_OF_POSS</th>\n",
       "      <th>TOUCHES</th>\n",
       "      <th>W</th>\n",
       "    </tr>\n",
       "  </thead>\n",
       "  <tbody>\n",
       "    <tr>\n",
       "      <th>0</th>\n",
       "      <td> 7.4</td>\n",
       "      <td> 6.5</td>\n",
       "      <td> 0</td>\n",
       "      <td> 42</td>\n",
       "      <td> 0021400010</td>\n",
       "      <td> 1</td>\n",
       "      <td> 0</td>\n",
       "      <td> 24</td>\n",
       "      <td> 0</td>\n",
       "      <td> 201166</td>\n",
       "      <td>  Aaron Brooks</td>\n",
       "      <td> 13</td>\n",
       "      <td> 0</td>\n",
       "      <td> 0.000</td>\n",
       "      <td> 0</td>\n",
       "      <td> 0.000</td>\n",
       "      <td> 0.289</td>\n",
       "      <td> CHI</td>\n",
       "      <td> 1610612741</td>\n",
       "      <td> 4.9</td>\n",
       "      <td> 45</td>\n",
       "      <td> 1</td>\n",
       "    </tr>\n",
       "    <tr>\n",
       "      <th>1</th>\n",
       "      <td> 0.5</td>\n",
       "      <td> 1.5</td>\n",
       "      <td> 7</td>\n",
       "      <td> 46</td>\n",
       "      <td> 0021400008</td>\n",
       "      <td> 1</td>\n",
       "      <td> 1</td>\n",
       "      <td> 31</td>\n",
       "      <td> 5</td>\n",
       "      <td> 201143</td>\n",
       "      <td>    Al Horford</td>\n",
       "      <td> 12</td>\n",
       "      <td> 5</td>\n",
       "      <td> 0.286</td>\n",
       "      <td> 0</td>\n",
       "      <td> 0.000</td>\n",
       "      <td> 0.171</td>\n",
       "      <td> ATL</td>\n",
       "      <td> 1610612737</td>\n",
       "      <td> 1.8</td>\n",
       "      <td> 70</td>\n",
       "      <td> 0</td>\n",
       "    </tr>\n",
       "    <tr>\n",
       "      <th>2</th>\n",
       "      <td> 0.4</td>\n",
       "      <td> 2.1</td>\n",
       "      <td> 3</td>\n",
       "      <td> 45</td>\n",
       "      <td> 0021400004</td>\n",
       "      <td> 1</td>\n",
       "      <td> 0</td>\n",
       "      <td> 40</td>\n",
       "      <td> 2</td>\n",
       "      <td>   2744</td>\n",
       "      <td>  Al Jefferson</td>\n",
       "      <td> 14</td>\n",
       "      <td> 8</td>\n",
       "      <td> 0.667</td>\n",
       "      <td> 0</td>\n",
       "      <td> 0.375</td>\n",
       "      <td> 0.230</td>\n",
       "      <td> CHA</td>\n",
       "      <td> 1610612766</td>\n",
       "      <td> 2.1</td>\n",
       "      <td> 61</td>\n",
       "      <td> 1</td>\n",
       "    </tr>\n",
       "    <tr>\n",
       "      <th>3</th>\n",
       "      <td> 0.6</td>\n",
       "      <td> 1.3</td>\n",
       "      <td> 0</td>\n",
       "      <td> 15</td>\n",
       "      <td> 0021400006</td>\n",
       "      <td> 1</td>\n",
       "      <td> 1</td>\n",
       "      <td> 25</td>\n",
       "      <td> 0</td>\n",
       "      <td> 101187</td>\n",
       "      <td> Alan Anderson</td>\n",
       "      <td>  4</td>\n",
       "      <td> 1</td>\n",
       "      <td> 0.000</td>\n",
       "      <td> 0</td>\n",
       "      <td> 0.000</td>\n",
       "      <td> 0.148</td>\n",
       "      <td> BKN</td>\n",
       "      <td> 1610612751</td>\n",
       "      <td> 0.6</td>\n",
       "      <td> 27</td>\n",
       "      <td> 0</td>\n",
       "    </tr>\n",
       "    <tr>\n",
       "      <th>4</th>\n",
       "      <td> 2.5</td>\n",
       "      <td> 3.1</td>\n",
       "      <td> 0</td>\n",
       "      <td> 50</td>\n",
       "      <td> 0021400012</td>\n",
       "      <td> 1</td>\n",
       "      <td> 1</td>\n",
       "      <td> 36</td>\n",
       "      <td> 0</td>\n",
       "      <td> 202692</td>\n",
       "      <td>    Alec Burks</td>\n",
       "      <td> 18</td>\n",
       "      <td> 0</td>\n",
       "      <td> 0.000</td>\n",
       "      <td> 0</td>\n",
       "      <td> 0.000</td>\n",
       "      <td> 0.305</td>\n",
       "      <td> UTA</td>\n",
       "      <td> 1610612762</td>\n",
       "      <td> 3.0</td>\n",
       "      <td> 59</td>\n",
       "      <td> 0</td>\n",
       "    </tr>\n",
       "  </tbody>\n",
       "</table>\n",
       "<p>5 rows × 22 columns</p>\n",
       "</div>"
      ],
      "text/plain": [
       "   AVG_DRIB_PER_TOUCH  AVG_SEC_PER_TOUCH  ELBOW_TOUCHES  FRONT_CT_TOUCHES  \\\n",
       "0                 7.4                6.5              0                42   \n",
       "1                 0.5                1.5              7                46   \n",
       "2                 0.4                2.1              3                45   \n",
       "3                 0.6                1.3              0                15   \n",
       "4                 2.5                3.1              0                50   \n",
       "\n",
       "      GAME_ID  GP  L  MIN  PAINT_TOUCHES  PLAYER_ID    PLAYER_NAME  POINTS  \\\n",
       "0  0021400010   1  0   24              0     201166   Aaron Brooks      13   \n",
       "1  0021400008   1  1   31              5     201143     Al Horford      12   \n",
       "2  0021400004   1  0   40              2       2744   Al Jefferson      14   \n",
       "3  0021400006   1  1   25              0     101187  Alan Anderson       4   \n",
       "4  0021400012   1  1   36              0     202692     Alec Burks      18   \n",
       "\n",
       "   POST_TOUCHES  PTS_PER_ELBOW_TOUCH  PTS_PER_PAINT_TOUCH  PTS_PER_POST_TOUCH  \\\n",
       "0             0                0.000                    0               0.000   \n",
       "1             5                0.286                    0               0.000   \n",
       "2             8                0.667                    0               0.375   \n",
       "3             1                0.000                    0               0.000   \n",
       "4             0                0.000                    0               0.000   \n",
       "\n",
       "   PTS_PER_TOUCH TEAM_ABBREVIATION     TEAM_ID  TIME_OF_POSS  TOUCHES  W  \n",
       "0          0.289               CHI  1610612741           4.9       45  1  \n",
       "1          0.171               ATL  1610612737           1.8       70  0  \n",
       "2          0.230               CHA  1610612766           2.1       61  1  \n",
       "3          0.148               BKN  1610612751           0.6       27  0  \n",
       "4          0.305               UTA  1610612762           3.0       59  0  \n",
       "\n",
       "[5 rows x 22 columns]"
      ]
     },
     "metadata": {},
     "output_type": "display_data"
    }
   ],
   "source": [
    "player_tracking_df = pd.DataFrame(player_tracking_data)\n",
    "\n",
    "with pd.option_context('display.max_columns', None):\n",
    "    display(player_tracking_df.head())"
   ]
  },
  {
   "cell_type": "markdown",
   "metadata": {
    "collapsed": true
   },
   "source": [
    "Now we have the game logs for the day's games.  Most of these column names should be pretty self explanatory but if you ever need to check to see what a heading means you can just mouse over the header on the [stat page](http://stats.nba.com/tracking/#!/player/possessions/) to get a more detailed description. To get the game logs for a different stat you just need to change the PtMeasureType parameter when getting the player tracking data. To get the full season's game logs you can just loop through all the days of the season and run this for each day. If you have any questions feel free to ask me on [Twitter.](http://twitter.com/bballport)"
   ]
  },
  {
   "cell_type": "code",
   "execution_count": null,
   "metadata": {
    "collapsed": true
   },
   "outputs": [],
   "source": []
  }
 ],
 "metadata": {
  "kernelspec": {
   "display_name": "Python 2",
   "language": "python",
   "name": "python2"
  },
  "language_info": {
   "codemirror_mode": {
    "name": "ipython",
    "version": 2
   },
   "file_extension": ".py",
   "mimetype": "text/x-python",
   "name": "python",
   "nbconvert_exporter": "python",
   "pygments_lexer": "ipython2",
   "version": "2.7.6"
  }
 },
 "nbformat": 4,
 "nbformat_minor": 0
}
